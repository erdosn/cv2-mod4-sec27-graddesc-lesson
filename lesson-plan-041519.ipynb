{
 "cells": [
  {
   "cell_type": "markdown",
   "metadata": {},
   "source": [
    "### Questions\n",
    "* ROC/AUC curves\n",
    "* What kind of datasets lend themselves to logistic regression vs other classifiers?\n",
    "* How do you determine what weights to give classes"
   ]
  },
  {
   "cell_type": "markdown",
   "metadata": {},
   "source": [
    "### Objectives\n",
    "YWBAT\n",
    "* give 3 examples of when logistic regression is used in the real world\n",
    "    * credit risk (loan risk) - low risk, high risk, medium risk\n",
    "    * spam filters - spam emails vs non spam\n",
    "        * 0 - non spam\n",
    "        * 1 - spam\n",
    "        * type II error with regards to spam detection\n",
    "            * Marks as spam and it isn't\n",
    "        * type I error is\n",
    "            * not catching spam\n",
    "    * medical testing ex: ebola, cancer, ...\n",
    "    * sentence -> intent (0 or 1)\n",
    "    * fraud detection - recall vs precision\n",
    "    * friend suggestion on facebook\n",
    "    * recommendations on sell/buy stock\n",
    "    \n",
    "* explain how linear regression is tied to logistic regression\n",
    "* explain the purpose of a sigmoid function\n",
    "\n",
    "\n",
    "* When does a high vs low threshold matter"
   ]
  },
  {
   "cell_type": "markdown",
   "metadata": {},
   "source": [
    "### Outline"
   ]
  },
  {
   "cell_type": "code",
   "execution_count": 66,
   "metadata": {},
   "outputs": [],
   "source": [
    "import pandas as pd\n",
    "import numpy as np\n",
    "\n",
    "from sklearn.linear_model import LogisticRegression, LogisticRegressionCV\n",
    "from sklearn.metrics import confusion_matrix\n",
    "from sklearn.model_selection import train_test_split\n",
    "\n",
    "\n",
    "import matplotlib.pyplot as plt"
   ]
  },
  {
   "cell_type": "markdown",
   "metadata": {},
   "source": [
    "### Let's load in some mocked data"
   ]
  },
  {
   "cell_type": "code",
   "execution_count": 26,
   "metadata": {},
   "outputs": [
    {
     "data": {
      "text/html": [
       "<div>\n",
       "<style scoped>\n",
       "    .dataframe tbody tr th:only-of-type {\n",
       "        vertical-align: middle;\n",
       "    }\n",
       "\n",
       "    .dataframe tbody tr th {\n",
       "        vertical-align: top;\n",
       "    }\n",
       "\n",
       "    .dataframe thead th {\n",
       "        text-align: right;\n",
       "    }\n",
       "</style>\n",
       "<table border=\"1\" class=\"dataframe\">\n",
       "  <thead>\n",
       "    <tr style=\"text-align: right;\">\n",
       "      <th></th>\n",
       "      <th>x</th>\n",
       "      <th>y</th>\n",
       "    </tr>\n",
       "  </thead>\n",
       "  <tbody>\n",
       "    <tr>\n",
       "      <th>0</th>\n",
       "      <td>0.514780</td>\n",
       "      <td>1.0</td>\n",
       "    </tr>\n",
       "    <tr>\n",
       "      <th>1</th>\n",
       "      <td>-3.279173</td>\n",
       "      <td>0.0</td>\n",
       "    </tr>\n",
       "    <tr>\n",
       "      <th>2</th>\n",
       "      <td>-3.845859</td>\n",
       "      <td>0.0</td>\n",
       "    </tr>\n",
       "    <tr>\n",
       "      <th>3</th>\n",
       "      <td>0.947575</td>\n",
       "      <td>1.0</td>\n",
       "    </tr>\n",
       "    <tr>\n",
       "      <th>4</th>\n",
       "      <td>1.884433</td>\n",
       "      <td>1.0</td>\n",
       "    </tr>\n",
       "  </tbody>\n",
       "</table>\n",
       "</div>"
      ],
      "text/plain": [
       "          x    y\n",
       "0  0.514780  1.0\n",
       "1 -3.279173  0.0\n",
       "2 -3.845859  0.0\n",
       "3  0.947575  1.0\n",
       "4  1.884433  1.0"
      ]
     },
     "execution_count": 26,
     "metadata": {},
     "output_type": "execute_result"
    }
   ],
   "source": [
    "df = pd.read_csv(\"data.csv\")\n",
    "x = df[\"x\"]\n",
    "y = df[\"y\"]\n",
    "df.head()"
   ]
  },
  {
   "cell_type": "markdown",
   "metadata": {},
   "source": [
    "### Plotting our points with color"
   ]
  },
  {
   "cell_type": "code",
   "execution_count": 33,
   "metadata": {},
   "outputs": [
    {
     "data": {
      "image/png": "[encoded data removed]",
      "text/plain": [
       "<Figure size 576x360 with 1 Axes>"
      ]
     },
     "metadata": {
      "needs_background": "light"
     },
     "output_type": "display_data"
    }
   ],
   "source": [
    "color_dict = {0: 'green', 1: 'purple'}\n",
    "plt.figure(figsize=(8, 5))\n",
    "plt.grid()\n",
    "for i, j in zip(x, y):\n",
    "    plt.scatter(i, j, color=color_dict[j], s=60)\n",
    "plt.show()\n",
    "\n",
    "# a value at x=0 would throw things off because both classes have x = 0"
   ]
  },
  {
   "cell_type": "markdown",
   "metadata": {},
   "source": [
    "### Why is Linear Regression no longer sufficient?\n",
    "* The range of linreg = -infty to infty \n",
    "* The range of our classes are 0 and 1\n",
    "\n",
    "* Plugging in our linear regression equation into a sigmoid function bounds it between 0 and 1. \n",
    "    * This is also normalization"
   ]
  },
  {
   "cell_type": "markdown",
   "metadata": {},
   "source": [
    "### How can we estimate these points?     \n",
    "\n",
    "$$f(x)= \\frac{1}{1 + e^{-c_1(x - c_2)}}$$   \n",
    "![](logreg.gif)"
   ]
  },
  {
   "cell_type": "code",
   "execution_count": 34,
   "metadata": {},
   "outputs": [],
   "source": [
    "def sigmoid(x, c1=1, c2=0):\n",
    "    num = 1\n",
    "    den = 1 + np.exp(-c1*(x - c2))\n",
    "    return num / den"
   ]
  },
  {
   "cell_type": "code",
   "execution_count": 58,
   "metadata": {},
   "outputs": [],
   "source": [
    "y_pred = sigmoid(x, c1=3, c2=0.20)"
   ]
  },
  {
   "cell_type": "code",
   "execution_count": 59,
   "metadata": {},
   "outputs": [
    {
     "data": {
      "image/png": "[encoded data removed]",
      "text/plain": [
       "<Figure size 576x360 with 1 Axes>"
      ]
     },
     "metadata": {
      "needs_background": "light"
     },
     "output_type": "display_data"
    }
   ],
   "source": [
    "color_dict = {0: 'green', 1: 'purple'}\n",
    "plt.figure(figsize=(8, 5))\n",
    "plt.grid()\n",
    "for i, j in zip(x, y):\n",
    "    plt.scatter(i, j, color=color_dict[j], s=60)\n",
    "plt.scatter(x, y_pred, color='k', linewidth=2)\n",
    "plt.show()"
   ]
  },
  {
   "cell_type": "markdown",
   "metadata": {},
   "source": [
    "### Why are these labels better than our y_preds\n",
    "    * We can start predicting once we have labels\n",
    "\n",
    "### What are the y_pred values similar to? Probability"
   ]
  },
  {
   "cell_type": "code",
   "execution_count": 91,
   "metadata": {},
   "outputs": [],
   "source": [
    "def get_labels(y_pred, thresh=0.50):\n",
    "    labels = []\n",
    "    for pred in y_pred:\n",
    "        if pred >= thresh:\n",
    "            labels.append(1)\n",
    "        else:\n",
    "            labels.append(0)\n",
    "    return labels\n",
    "\n",
    "\n",
    "def get_labels2(y_probs, thresh=0.50):\n",
    "    labels = []\n",
    "    for pred in y_probs: # pred = [float, float]\n",
    "        if pred[1] >= thresh:\n",
    "            labels.append(1)\n",
    "        else:\n",
    "            labels.append(0)\n",
    "    return labels"
   ]
  },
  {
   "cell_type": "code",
   "execution_count": 56,
   "metadata": {},
   "outputs": [],
   "source": [
    "def get_p_n_dict(true_labels, predicted_labels):\n",
    "    d = {\"TP\": 0, \"TN\": 0, \"FP\":0, \"FN\": 0}\n",
    "    \n",
    "    for tl, pl in zip(true_labels, predicted_labels):\n",
    "        if pl == 1:\n",
    "            if tl == 0:\n",
    "                d[\"FP\"] += 1\n",
    "            elif tl == 1:\n",
    "                d[\"TP\"] += 1\n",
    "        \n",
    "        if pl == 0:\n",
    "            if tl == 0:\n",
    "                d[\"TN\"] += 1\n",
    "            elif tl == 1:\n",
    "                d[\"FN\"] += 1\n",
    "    return d\n",
    "\n",
    "\n",
    "# maximizing recall is minimizing False Negatives (FN)\n",
    "def recall(true_labels, predicted_labels):\n",
    "    d = get_p_n_dict(true_labels, predicted_labels)\n",
    "    rec_score = d[\"TP\"] / (d[\"TP\"] + d[\"FN\"])\n",
    "    \n",
    "    return rec_score\n",
    "\n",
    "\n",
    "# maximizing precision is minimizing False Positives (FP)\n",
    "def precision(true_labels, predicted_labels):\n",
    "    d = get_p_n_dict(true_labels, predicted_labels)\n",
    "    prec_score = d[\"TP\"] / (d[\"TP\"] + d[\"FP\"])\n",
    "    return prec_score\n",
    "\n",
    "\n",
    "def accuracy(true_labels, predicted_labels):\n",
    "    d = get_p_n_dict(true_labels, predicted_labels)\n",
    "    num = d[\"TP\"] + d[\"TN\"]\n",
    "    den = sum(d.values())\n",
    "    acc_score = num / den\n",
    "    return acc_score"
   ]
  },
  {
   "cell_type": "code",
   "execution_count": 64,
   "metadata": {},
   "outputs": [
    {
     "data": {
      "text/plain": [
       "(1.0, 0.9803921568627451, 0.99)"
      ]
     },
     "execution_count": 64,
     "metadata": {},
     "output_type": "execute_result"
    }
   ],
   "source": [
    "labels = get_labels(y_pred, thresh=0.15)\n",
    "recall(y, labels), precision(y, labels), accuracy(y, labels)"
   ]
  },
  {
   "cell_type": "code",
   "execution_count": 65,
   "metadata": {},
   "outputs": [],
   "source": [
    "logreg = LogisticRegression()"
   ]
  },
  {
   "cell_type": "code",
   "execution_count": 67,
   "metadata": {},
   "outputs": [
    {
     "name": "stderr",
     "output_type": "stream",
     "text": [
      "/anaconda3/lib/python3.7/site-packages/sklearn/model_selection/_split.py:2179: FutureWarning: From version 0.21, test_size will always complement train_size unless both are specified.\n",
      "  FutureWarning)\n"
     ]
    }
   ],
   "source": [
    "xtrain, xtest, ytrain, ytest = train_test_split(x, y, train_size=0.60)"
   ]
  },
  {
   "cell_type": "code",
   "execution_count": 76,
   "metadata": {},
   "outputs": [
    {
     "data": {
      "text/plain": [
       "numpy.ndarray"
      ]
     },
     "execution_count": 76,
     "metadata": {},
     "output_type": "execute_result"
    }
   ],
   "source": [
    "xtr = xtrain.values\n",
    "type(xtr)"
   ]
  },
  {
   "cell_type": "code",
   "execution_count": 81,
   "metadata": {},
   "outputs": [
    {
     "name": "stderr",
     "output_type": "stream",
     "text": [
      "/anaconda3/lib/python3.7/site-packages/sklearn/linear_model/logistic.py:433: FutureWarning: Default solver will be changed to 'lbfgs' in 0.22. Specify a solver to silence this warning.\n",
      "  FutureWarning)\n",
      "/anaconda3/lib/python3.7/site-packages/sklearn/utils/validation.py:761: DataConversionWarning: A column-vector y was passed when a 1d array was expected. Please change the shape of y to (n_samples, ), for example using ravel().\n",
      "  y = column_or_1d(y, warn=True)\n"
     ]
    },
    {
     "data": {
      "text/plain": [
       "LogisticRegression(C=1.0, class_weight=None, dual=False, fit_intercept=True,\n",
       "          intercept_scaling=1, max_iter=100, multi_class='warn',\n",
       "          n_jobs=None, penalty='l2', random_state=None, solver='warn',\n",
       "          tol=0.0001, verbose=0, warm_start=False)"
      ]
     },
     "execution_count": 81,
     "metadata": {},
     "output_type": "execute_result"
    }
   ],
   "source": [
    "logreg.fit(xtrain.values.reshape(-1, 1), ytrain.values.reshape(-1, 1))"
   ]
  },
  {
   "cell_type": "code",
   "execution_count": 87,
   "metadata": {},
   "outputs": [
    {
     "data": {
      "text/plain": [
       "array([0., 0., 1., 1., 0., 0., 1., 0., 1., 1., 1., 0., 1., 0., 0., 1., 0.,\n",
       "       0., 1., 1., 0., 0., 0., 0., 0., 1., 0., 0., 0., 0., 1., 1., 0., 0.,\n",
       "       1., 0., 0., 0., 0., 1.])"
      ]
     },
     "execution_count": 87,
     "metadata": {},
     "output_type": "execute_result"
    }
   ],
   "source": [
    "### out of the box predictions using sklearn uses 50% threshold\n",
    "logreg.predict(xtest.values.reshape(-1, 1))"
   ]
  },
  {
   "cell_type": "code",
   "execution_count": 97,
   "metadata": {},
   "outputs": [],
   "source": [
    "### predict_proba gives you probablities for each value [prob(0|X), prob(1|X)]\n",
    "ytest_probs = logreg.predict_proba(xtest.values.reshape(-1, 1))\n",
    "predlabels = get_labels2(ytest_probs, thresh=0.99)"
   ]
  },
  {
   "cell_type": "code",
   "execution_count": 109,
   "metadata": {},
   "outputs": [
    {
     "data": {
      "text/plain": [
       "array([[25,  0],\n",
       "       [10,  5]])"
      ]
     },
     "execution_count": 109,
     "metadata": {},
     "output_type": "execute_result"
    }
   ],
   "source": [
    "cm = confusion_matrix(ytest, predlabels)\n",
    "cm"
   ]
  },
  {
   "cell_type": "code",
   "execution_count": 110,
   "metadata": {},
   "outputs": [],
   "source": [
    "import seaborn as sns"
   ]
  },
  {
   "cell_type": "code",
   "execution_count": 111,
   "metadata": {},
   "outputs": [
    {
     "data": {
      "image/png": "[encoded data removed]",
      "text/plain": [
       "<Figure size 576x576 with 2 Axes>"
      ]
     },
     "metadata": {
      "needs_background": "light"
     },
     "output_type": "display_data"
    }
   ],
   "source": [
    "plt.figure(figsize=(8, 8))\n",
    "sns.heatmap(cm, annot=True, cmap=sns.color_palette('Purples'))\n",
    "plt.xlabel(\"Pred\", fontsize=16)\n",
    "plt.ylabel(\"Actual\", fontsize=16)\n",
    "plt.show()"
   ]
  },
  {
   "cell_type": "markdown",
   "metadata": {},
   "source": [
    "### Assessment\n",
    "* Learned the process of modeling using logreg outside of sklearn\n",
    "* Better idea of what thresholds adjust\n",
    "* More fluent with TP, FP, ...\n",
    "* Learned how to read a confusion matrix\n",
    "* How to program functions from scratch\n",
    "* Setting thresholds for labeling data\n",
    "* Using sklearn to compute confusion matrix and using seaborn\n",
    "* predict vs predict_proba"
   ]
  }
 ],
 "metadata": {
  "kernelspec": {
   "display_name": "Python 3",
   "language": "python",
   "name": "python3"
  },
  "language_info": {
   "codemirror_mode": {
    "name": "ipython",
    "version": 3
   },
   "file_extension": ".py",
   "mimetype": "text/x-python",
   "name": "python",
   "nbconvert_exporter": "python",
   "pygments_lexer": "ipython3",
   "version": "3.7.3"
  }
 },
 "nbformat": 4,
 "nbformat_minor": 2
}
